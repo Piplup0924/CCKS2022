{
 "cells": [
  {
   "cell_type": "code",
   "execution_count": 1,
   "metadata": {},
   "outputs": [],
   "source": [
    "import os\n",
    "import sys\n",
    "import json\n",
    "from PIL import Image"
   ]
  },
  {
   "cell_type": "code",
   "execution_count": 2,
   "metadata": {},
   "outputs": [],
   "source": [
    "cat = []\n",
    "for files in os.listdir(\"../../CSDQA_v2.1/data/diagram/\"):\n",
    "    cat.append(files)"
   ]
  },
  {
   "cell_type": "code",
   "execution_count": 3,
   "metadata": {},
   "outputs": [
    {
     "data": {
      "text/plain": [
       "['Non-binary-tree',\n",
       " 'Network-topology',\n",
       " 'Array-list',\n",
       " 'Graph',\n",
       " 'Binary-tree',\n",
       " 'Stack',\n",
       " 'Flowchart',\n",
       " 'Queue',\n",
       " 'Logic-circuit',\n",
       " 'Linked-List',\n",
       " 'Deadlock']"
      ]
     },
     "execution_count": 3,
     "metadata": {},
     "output_type": "execute_result"
    }
   ],
   "source": [
    "cat"
   ]
  },
  {
   "cell_type": "code",
   "execution_count": 4,
   "metadata": {},
   "outputs": [],
   "source": [
    "import hashlib"
   ]
  },
  {
   "cell_type": "code",
   "execution_count": 5,
   "metadata": {},
   "outputs": [],
   "source": [
    "def get_md5(file_path):\n",
    "    md5 = None\n",
    "    if os.path.isfile(file_path):\n",
    "        f = open(file_path, 'rb')\n",
    "        md5_obj = hashlib.md5()\n",
    "        md5_obj.update(f.read())\n",
    "        hash_code = md5_obj.hexdigest()\n",
    "        f.close()\n",
    "        md5 = str(hash_code).lower()\n",
    "    return md5"
   ]
  },
  {
   "cell_type": "code",
   "execution_count": 6,
   "metadata": {},
   "outputs": [],
   "source": [
    "img2img = dict()"
   ]
  },
  {
   "cell_type": "code",
   "execution_count": 7,
   "metadata": {},
   "outputs": [],
   "source": [
    "img_names = []\n",
    "for folder in ['train', 'val', 'test']:\n",
    "    for imgfrom_name in os.listdir(os.path.join(\"../data/CSDQA_3/\", folder)):\n",
    "        imgfrom_md5 = get_md5(os.path.join(\"../data/CSDQA_3/\", folder, imgfrom_name))\n",
    "        for c in cat:\n",
    "            for imgto_name in os.listdir(os.path.join(\"../../CSDQA_v2.1/data/diagram/\", c)):\n",
    "                imgto_md5 = get_md5(os.path.join(\"../../CSDQA_v2.1/data/diagram/\", c, imgto_name))\n",
    "                if imgfrom_md5 == imgto_md5:\n",
    "                    img2img[imgfrom_name] = [c, imgto_name]"
   ]
  },
  {
   "cell_type": "code",
   "execution_count": 8,
   "metadata": {},
   "outputs": [
    {
     "data": {
      "text/plain": [
       "324"
      ]
     },
     "execution_count": 8,
     "metadata": {},
     "output_type": "execute_result"
    }
   ],
   "source": [
    "img2img.__len__()"
   ]
  },
  {
   "cell_type": "code",
   "execution_count": 13,
   "metadata": {},
   "outputs": [
    {
     "data": {
      "text/plain": [
       "{'007.png': ['Stack', '007.png'],\n",
       " 'List_5.png': ['Linked-List', 'List_5.png'],\n",
       " '34.png': ['Array-list', '34.png'],\n",
       " '139.png': ['Stack', '139.png'],\n",
       " '68.png': ['Array-list', '68.png'],\n",
       " '147.png': ['Stack', '147.png'],\n",
       " 'List_35.png': ['Linked-List', 'List_35.png'],\n",
       " '106.png': ['Stack', '106.png'],\n",
       " '114.png': ['Stack', '114.png'],\n",
       " '026.png': ['Stack', '026.png'],\n",
       " '093.png': ['Stack', '093.png'],\n",
       " 'List_38.png': ['Linked-List', 'List_38.png'],\n",
       " '052.png': ['Stack', '052.png'],\n",
       " '140.png': ['Stack', '140.png'],\n",
       " '26.png': ['Array-list', '26.png'],\n",
       " '031.png': ['Stack', '031.png'],\n",
       " 'List_40.png': ['Linked-List', 'List_40.png'],\n",
       " 'List_81.png': ['Linked-List', 'List_81.png'],\n",
       " 'List_97.png': ['Linked-List', 'List_97.png'],\n",
       " '004.png': ['Stack', '004.png'],\n",
       " '038.png': ['Stack', '038.png'],\n",
       " '15.png': ['Array-list', '15.png'],\n",
       " '14.png': ['Array-list', '14.png'],\n",
       " '134.png': ['Stack', '134.png'],\n",
       " 'List_55.png': ['Array-list', 'List_55.png'],\n",
       " 'List_8.png': ['Linked-List', 'List_8.png'],\n",
       " 'List_75.png': ['Array-list', 'List_75.png'],\n",
       " '69.png': ['Array-list', '69.png'],\n",
       " '042.png': ['Stack', '042.png'],\n",
       " 'List_12.png': ['Linked-List', 'List_12.png'],\n",
       " '011.png': ['Stack', '011.png'],\n",
       " 'List_64.png': ['Linked-List', 'List_64.png'],\n",
       " '035.png': ['Stack', '035.png'],\n",
       " '124.png': ['Stack', '124.png'],\n",
       " '17.png': ['Array-list', '17.png'],\n",
       " 'List_51.png': ['Linked-List', 'List_51.png'],\n",
       " '125.png': ['Stack', '125.png'],\n",
       " '65.png': ['Array-list', '65.png'],\n",
       " 'List_56.png': ['Array-list', 'List_56.png'],\n",
       " '66.png': ['Array-list', '66.png'],\n",
       " '020.png': ['Stack', '020.png'],\n",
       " 'List_82.png': ['Linked-List', 'List_82.png'],\n",
       " '62.png': ['Array-list', '62.png'],\n",
       " 'List_10.png': ['Linked-List', 'List_10.png'],\n",
       " '022.png': ['Stack', '022.png'],\n",
       " '063.png': ['Stack', '063.png'],\n",
       " '137.png': ['Stack', '137.png'],\n",
       " 'List_61.png': ['Linked-List', 'List_61.png'],\n",
       " 'List_7.png': ['Linked-List', 'List_7.png'],\n",
       " 'List_44.png': ['Linked-List', 'List_44.png'],\n",
       " '097.png': ['Stack', '097.png'],\n",
       " 'List_99.png': ['Linked-List', 'List_99.png'],\n",
       " 'List_37.png': ['Linked-List', 'List_37.png'],\n",
       " '003.png': ['Stack', '003.png'],\n",
       " '136.png': ['Stack', '136.png'],\n",
       " '066.png': ['Stack', '066.png'],\n",
       " '061.png': ['Stack', '061.png'],\n",
       " '101.png': ['Stack', '101.png'],\n",
       " 'List_96.png': ['Linked-List', 'List_96.png'],\n",
       " '015.png': ['Stack', '015.png'],\n",
       " '47.png': ['Array-list', '47.png'],\n",
       " 'List_66.png': ['Linked-List', 'List_66.png'],\n",
       " '43.png': ['Array-list', '43.png'],\n",
       " 'List_53.png': ['Array-list', 'List_53.png'],\n",
       " '099.png': ['Stack', '099.png'],\n",
       " 'List_36.png': ['Linked-List', 'List_36.png'],\n",
       " '059.png': ['Stack', '059.png'],\n",
       " '52.png': ['Array-list', '52.png'],\n",
       " '63.png': ['Array-list', '63.png'],\n",
       " '23.png': ['Array-list', '23.png'],\n",
       " '118.png': ['Stack', '118.png'],\n",
       " '21.png': ['Array-list', '21.png'],\n",
       " 'List_33.png': ['Linked-List', 'List_33.png'],\n",
       " '001.png': ['Stack', '001.png'],\n",
       " '115.png': ['Stack', '115.png'],\n",
       " 'List_77.png': ['Array-list', 'List_77.png'],\n",
       " '062.png': ['Stack', '062.png'],\n",
       " '017.png': ['Stack', '017.png'],\n",
       " '074.png': ['Stack', '074.png'],\n",
       " 'List_52.png': ['Linked-List', 'List_52.png'],\n",
       " '079.png': ['Stack', '079.png'],\n",
       " 'List_89.png': ['Linked-List', 'List_89.png'],\n",
       " '051.png': ['Stack', '051.png'],\n",
       " '096.png': ['Stack', '096.png'],\n",
       " '057.png': ['Stack', '057.png'],\n",
       " '37.png': ['Array-list', '37.png'],\n",
       " 'List_42.png': ['Linked-List', 'List_42.png'],\n",
       " '013.png': ['Stack', '013.png'],\n",
       " '054.png': ['Stack', '054.png'],\n",
       " '084.png': ['Stack', '084.png'],\n",
       " '045.png': ['Stack', '045.png'],\n",
       " '119.png': ['Stack', '119.png'],\n",
       " '006.png': ['Stack', '006.png'],\n",
       " '037.png': ['Stack', '037.png'],\n",
       " '009.png': ['Stack', '009.png'],\n",
       " '122.png': ['Stack', '122.png'],\n",
       " '18.png': ['Array-list', '18.png'],\n",
       " 'List_23.png': ['Linked-List', 'List_23.png'],\n",
       " 'List_26.png': ['Linked-List', 'List_26.png'],\n",
       " '078.png': ['Stack', '078.png'],\n",
       " 'List_27.png': ['Array-list', 'List_27.png'],\n",
       " '73.png': ['Array-list', '73.png'],\n",
       " '058.png': ['Stack', '058.png'],\n",
       " '67.png': ['Array-list', '67.png'],\n",
       " 'List_88.png': ['Linked-List', 'List_88.png'],\n",
       " 'List_91.png': ['Linked-List', 'List_91.png'],\n",
       " '034.png': ['Stack', '034.png'],\n",
       " 'List_11.png': ['Linked-List', 'List_11.png'],\n",
       " '032.png': ['Stack', '032.png'],\n",
       " '094.png': ['Stack', '094.png'],\n",
       " '109.png': ['Stack', '109.png'],\n",
       " '023.png': ['Stack', '023.png'],\n",
       " '077.png': ['Stack', '077.png'],\n",
       " '143.png': ['Stack', '143.png'],\n",
       " 'List_39.png': ['Linked-List', 'List_39.png'],\n",
       " 'List_100.png': ['Linked-List', 'List_100.png'],\n",
       " '54.png': ['Array-list', '54.png'],\n",
       " '046.png': ['Stack', '046.png'],\n",
       " '144.png': ['Stack', '144.png'],\n",
       " 'List_76.png': ['Array-list', 'List_76.png'],\n",
       " '64.png': ['Array-list', '64.png'],\n",
       " 'List_43.png': ['Array-list', 'List_43.png'],\n",
       " '20.png': ['Array-list', '20.png'],\n",
       " '24.png': ['Array-list', '24.png'],\n",
       " '48.png': ['Array-list', '48.png'],\n",
       " '112.png': ['Stack', '112.png'],\n",
       " 'List_87.png': ['Linked-List', 'List_87.png'],\n",
       " '027.png': ['Stack', '027.png'],\n",
       " '081.png': ['Stack', '081.png'],\n",
       " '083.png': ['Stack', '083.png'],\n",
       " 'List_17.png': ['Array-list', 'List_17.png'],\n",
       " '055.png': ['Stack', '055.png'],\n",
       " '5.png': ['Array-list', '5.png'],\n",
       " 'List_63.png': ['Linked-List', 'List_63.png'],\n",
       " '58.png': ['Array-list', '58.png'],\n",
       " '068.png': ['Stack', '068.png'],\n",
       " 'List_59.png': ['Linked-List', 'List_59.png'],\n",
       " '120.png': ['Stack', '120.png'],\n",
       " '069.png': ['Stack', '069.png'],\n",
       " '44.png': ['Array-list', '44.png'],\n",
       " 'List_3.png': ['Array-list', 'List_3.png'],\n",
       " '092.png': ['Stack', '092.png'],\n",
       " '74.png': ['Array-list', '74.png'],\n",
       " '72.png': ['Array-list', '72.png'],\n",
       " 'List_24.png': ['Linked-List', 'List_24.png'],\n",
       " '40.png': ['Array-list', '40.png'],\n",
       " '064.png': ['Stack', '064.png'],\n",
       " '029.png': ['Stack', '029.png'],\n",
       " '4.png': ['Array-list', '4.png'],\n",
       " '116.png': ['Stack', '116.png'],\n",
       " '45.png': ['Array-list', '45.png'],\n",
       " '113.png': ['Stack', '113.png'],\n",
       " 'List_15.png': ['Linked-List', 'List_15.png'],\n",
       " 'List_74.png': ['Array-list', 'List_74.png'],\n",
       " 'List_46.png': ['Linked-List', 'List_46.png'],\n",
       " '014.png': ['Stack', '014.png'],\n",
       " '025.png': ['Stack', '025.png'],\n",
       " '087.png': ['Stack', '087.png'],\n",
       " '071.png': ['Stack', '071.png'],\n",
       " '070.png': ['Stack', '070.png'],\n",
       " '117.png': ['Stack', '117.png'],\n",
       " '105.png': ['Stack', '105.png'],\n",
       " '085.png': ['Stack', '085.png'],\n",
       " '040.png': ['Stack', '040.png'],\n",
       " '25.png': ['Array-list', '25.png'],\n",
       " 'List_47.png': ['Linked-List', 'List_47.png'],\n",
       " 'List_86.png': ['Linked-List', 'List_86.png'],\n",
       " '145.png': ['Stack', '145.png'],\n",
       " '076.png': ['Stack', '076.png'],\n",
       " '012.png': ['Stack', '012.png'],\n",
       " '27.png': ['Array-list', '27.png'],\n",
       " 'List_19.png': ['Array-list', 'List_19.png'],\n",
       " '089.png': ['Stack', '089.png'],\n",
       " '138.png': ['Stack', '138.png'],\n",
       " '50.png': ['Array-list', '50.png'],\n",
       " 'List_83.png': ['Linked-List', 'List_83.png'],\n",
       " '002.png': ['Stack', '002.png'],\n",
       " 'List_85.png': ['Linked-List', 'List_85.png'],\n",
       " '107.png': ['Stack', '107.png'],\n",
       " '10.png': ['Array-list', '10.png'],\n",
       " '149.png': ['Stack', '149.png'],\n",
       " 'List_80.png': ['Array-list', 'List_80.png'],\n",
       " '005.png': ['Stack', '005.png'],\n",
       " '6.png': ['Array-list', '6.png'],\n",
       " '141.png': ['Stack', '141.png'],\n",
       " '128.png': ['Stack', '128.png'],\n",
       " 'List_50.png': ['Array-list', 'List_50.png'],\n",
       " 'List_34.png': ['Linked-List', 'List_34.png'],\n",
       " '024.png': ['Stack', '024.png'],\n",
       " '148.png': ['Stack', '148.png'],\n",
       " '050.png': ['Stack', '050.png'],\n",
       " '1.png': ['Array-list', '1.png'],\n",
       " '70.png': ['Array-list', '70.png'],\n",
       " '56.png': ['Array-list', '56.png'],\n",
       " 'List_58.png': ['Linked-List', 'List_58.png'],\n",
       " '53.png': ['Array-list', '53.png'],\n",
       " '090.png': ['Stack', '090.png'],\n",
       " 'List_71.png': ['Linked-List', 'List_71.png'],\n",
       " '57.png': ['Array-list', '57.png'],\n",
       " 'List_21.png': ['Linked-List', 'List_21.png'],\n",
       " 'List_79.png': ['Array-list', 'List_79.png'],\n",
       " 'List_29.png': ['Array-list', 'List_29.png'],\n",
       " 'List_57.png': ['Array-list', 'List_57.png'],\n",
       " '49.png': ['Array-list', '49.png'],\n",
       " 'List_65.png': ['Linked-List', 'List_65.png'],\n",
       " 'List_20.png': ['Array-list', 'List_20.png'],\n",
       " '35.png': ['Array-list', '35.png'],\n",
       " '056.png': ['Stack', '056.png'],\n",
       " '044.png': ['Stack', '044.png'],\n",
       " '033.png': ['Stack', '033.png'],\n",
       " '082.png': ['Stack', '082.png'],\n",
       " '018.png': ['Stack', '018.png'],\n",
       " 'List_9.png': ['Linked-List', 'List_9.png'],\n",
       " 'List_84.png': ['Linked-List', 'List_84.png'],\n",
       " '19.png': ['Array-list', '19.png'],\n",
       " '2.png': ['Array-list', '2.png'],\n",
       " '065.png': ['Stack', '065.png'],\n",
       " '010.png': ['Stack', '010.png'],\n",
       " 'List_98.png': ['Linked-List', 'List_98.png'],\n",
       " '088.png': ['Stack', '088.png'],\n",
       " 'List_25.png': ['Linked-List', 'List_25.png'],\n",
       " '39.png': ['Array-list', '39.png'],\n",
       " '22.png': ['Array-list', '22.png'],\n",
       " '30.png': ['Array-list', '30.png'],\n",
       " '31.png': ['Array-list', '31.png'],\n",
       " '29.png': ['Array-list', '29.png'],\n",
       " '142.png': ['Stack', '142.png'],\n",
       " 'List_95.png': ['Linked-List', 'List_95.png'],\n",
       " '71.png': ['Array-list', '71.png'],\n",
       " '3.png': ['Array-list', '3.png'],\n",
       " '098.png': ['Stack', '098.png'],\n",
       " '021.png': ['Stack', '021.png'],\n",
       " 'List_41.png': ['Linked-List', 'List_41.png'],\n",
       " 'List_72.png': ['Linked-List', 'List_72.png'],\n",
       " '150.png': ['Stack', '150.png'],\n",
       " '067.png': ['Stack', '067.png'],\n",
       " '16.png': ['Array-list', '16.png'],\n",
       " '9.png': ['Array-list', '9.png'],\n",
       " '102.png': ['Stack', '102.png'],\n",
       " '146.png': ['Stack', '146.png'],\n",
       " '060.png': ['Stack', '060.png'],\n",
       " '019.png': ['Stack', '019.png'],\n",
       " '049.png': ['Stack', '049.png'],\n",
       " 'List_93.png': ['Linked-List', 'List_93.png'],\n",
       " '32.png': ['Array-list', '32.png'],\n",
       " '36.png': ['Array-list', '36.png'],\n",
       " '127.png': ['Stack', '127.png'],\n",
       " '33.png': ['Array-list', '33.png'],\n",
       " '59.png': ['Array-list', '59.png'],\n",
       " '60.png': ['Array-list', '60.png'],\n",
       " '7.png': ['Array-list', '7.png'],\n",
       " 'List_78.png': ['Array-list', 'List_78.png'],\n",
       " '8.png': ['Array-list', '8.png'],\n",
       " '053.png': ['Stack', '053.png'],\n",
       " '130.png': ['Stack', '130.png'],\n",
       " 'List_60.png': ['Linked-List', 'List_60.png'],\n",
       " 'List_92.png': ['Linked-List', 'List_92.png'],\n",
       " '13.png': ['Array-list', '13.png'],\n",
       " '104.png': ['Stack', '104.png'],\n",
       " '132.png': ['Stack', '132.png'],\n",
       " '095.png': ['Stack', '095.png'],\n",
       " 'List_94.png': ['Linked-List', 'List_94.png'],\n",
       " 'List_30.png': ['Array-list', 'List_30.png'],\n",
       " '100.png': ['Stack', '100.png'],\n",
       " 'List_49.png': ['Linked-List', 'List_49.png'],\n",
       " '036.png': ['Stack', '036.png'],\n",
       " 'List_16.png': ['Linked-List', 'List_16.png'],\n",
       " 'List_6.png': ['Linked-List', 'List_6.png'],\n",
       " 'List_67.png': ['Linked-List', 'List_67.png'],\n",
       " '126.png': ['Stack', '126.png'],\n",
       " '41.png': ['Array-list', '41.png'],\n",
       " '048.png': ['Stack', '048.png'],\n",
       " 'List_28.png': ['Array-list', 'List_28.png'],\n",
       " 'List_18.png': ['Array-list', 'List_18.png'],\n",
       " '086.png': ['Stack', '086.png'],\n",
       " '008.png': ['Stack', '008.png'],\n",
       " '041.png': ['Stack', '041.png'],\n",
       " '075.png': ['Stack', '075.png'],\n",
       " 'List_70.png': ['Array-list', 'List_70.png'],\n",
       " 'List_45.png': ['Linked-List', 'List_45.png'],\n",
       " '039.png': ['Stack', '039.png'],\n",
       " 'List_1.png': ['Array-list', 'List_1.png'],\n",
       " '047.png': ['Stack', '047.png'],\n",
       " '135.png': ['Stack', '135.png'],\n",
       " '123.png': ['Stack', '123.png'],\n",
       " '131.png': ['Stack', '131.png'],\n",
       " '55.png': ['Array-list', '55.png'],\n",
       " 'List_14.png': ['Linked-List', 'List_14.png'],\n",
       " '133.png': ['Stack', '133.png'],\n",
       " 'List_48.png': ['Linked-List', 'List_48.png'],\n",
       " '111.png': ['Stack', '111.png'],\n",
       " '073.png': ['Stack', '073.png'],\n",
       " '11.png': ['Array-list', '11.png'],\n",
       " '28.png': ['Array-list', '28.png'],\n",
       " '028.png': ['Stack', '028.png'],\n",
       " 'List_31.png': ['Linked-List', 'List_31.png'],\n",
       " '51.png': ['Array-list', '51.png'],\n",
       " 'List_22.png': ['Linked-List', 'List_22.png'],\n",
       " 'List_54.png': ['Array-list', 'List_54.png'],\n",
       " '38.png': ['Array-list', '38.png'],\n",
       " '129.png': ['Stack', '129.png'],\n",
       " 'List_90.png': ['Linked-List', 'List_90.png'],\n",
       " 'List_69.png': ['Linked-List', 'List_69.png'],\n",
       " '61.png': ['Array-list', '61.png'],\n",
       " '108.png': ['Stack', '108.png'],\n",
       " '46.png': ['Array-list', '46.png'],\n",
       " '016.png': ['Stack', '016.png'],\n",
       " '110.png': ['Stack', '110.png'],\n",
       " 'List_68.png': ['Linked-List', 'List_68.png'],\n",
       " '030.png': ['Stack', '030.png'],\n",
       " 'List_62.png': ['Linked-List', 'List_62.png'],\n",
       " '42.png': ['Array-list', '42.png'],\n",
       " '091.png': ['Stack', '091.png'],\n",
       " 'List_2.png': ['Array-list', 'List_2.png'],\n",
       " '043.png': ['Stack', '043.png'],\n",
       " '080.png': ['Stack', '080.png'],\n",
       " '072.png': ['Stack', '072.png'],\n",
       " '103.png': ['Stack', '103.png'],\n",
       " '12.png': ['Array-list', '12.png'],\n",
       " '121.png': ['Stack', '121.png'],\n",
       " 'List_4.png': ['Linked-List', 'List_4.png'],\n",
       " 'List_73.png': ['Linked-List', 'List_73.png'],\n",
       " 'List_32.png': ['Linked-List', 'List_32.png'],\n",
       " 'List_13.png': ['Linked-List', 'List_13.png']}"
      ]
     },
     "execution_count": 13,
     "metadata": {},
     "output_type": "execute_result"
    }
   ],
   "source": [
    "img2img"
   ]
  },
  {
   "cell_type": "code",
   "execution_count": 14,
   "metadata": {},
   "outputs": [
    {
     "name": "stdout",
     "output_type": "stream",
     "text": [
      "List_55.png\n",
      "List_75.png\n",
      "List_56.png\n",
      "List_53.png\n",
      "List_77.png\n",
      "List_27.png\n",
      "List_76.png\n",
      "List_43.png\n",
      "List_17.png\n",
      "List_3.png\n",
      "List_74.png\n",
      "076.png\n",
      "List_19.png\n",
      "List_80.png\n",
      "List_50.png\n",
      "List_79.png\n",
      "List_29.png\n",
      "List_57.png\n",
      "List_20.png\n",
      "List_78.png\n",
      "List_30.png\n",
      "List_28.png\n",
      "List_18.png\n",
      "List_70.png\n",
      "List_1.png\n",
      "List_54.png\n",
      "List_2.png\n"
     ]
    }
   ],
   "source": [
    "img2obj = dict()\n",
    "for imgName, address in img2img.items():\n",
    "    json_file = json.load(open(os.path.join(\"../../CSDQA_v2.1/data/annotation/\", address[0], address[0]+'.json')))\n",
    "    for dic in list(json_file.values())[0]:\n",
    "        if dic['filename'] == address[1]:\n",
    "            region_obj = []\n",
    "            for region in dic['regions']:\n",
    "                # Type = region['region_attributes']['Type']\n",
    "                # if type(Type) == list and 'object' in Type or type(Type) == dict and Type.get('object', False):\n",
    "                if region[\"region_attributes\"].get('Obj_id', False):\n",
    "                    region_obj.append(region)\n",
    "            img2obj[imgName] = region_obj\n",
    "    if imgName not in img2obj.keys():\n",
    "        img2obj[imgName] = []\n",
    "        print(imgName)"
   ]
  },
  {
   "cell_type": "code",
   "execution_count": 16,
   "metadata": {},
   "outputs": [
    {
     "data": {
      "text/plain": [
       "['Array-list', 'List_1.png']"
      ]
     },
     "execution_count": 16,
     "metadata": {},
     "output_type": "execute_result"
    }
   ],
   "source": [
    "img2img[\"List_1.png\"]"
   ]
  },
  {
   "cell_type": "code",
   "execution_count": 15,
   "metadata": {},
   "outputs": [
    {
     "data": {
      "text/plain": [
       "324"
      ]
     },
     "execution_count": 15,
     "metadata": {},
     "output_type": "execute_result"
    }
   ],
   "source": [
    "img2obj.__len__()"
   ]
  },
  {
   "cell_type": "code",
   "execution_count": 17,
   "metadata": {},
   "outputs": [],
   "source": [
    "json.dump(img2obj, open(\"../data/CSDQA_3/img2obj.json\", 'w'))"
   ]
  },
  {
   "cell_type": "markdown",
   "metadata": {},
   "source": [
    "#### 创建图片长宽的JSON文件"
   ]
  },
  {
   "cell_type": "code",
   "execution_count": 19,
   "metadata": {},
   "outputs": [
    {
     "data": {
      "text/plain": [
       "(0, 0, 157, 273)"
      ]
     },
     "execution_count": 19,
     "metadata": {},
     "output_type": "execute_result"
    }
   ],
   "source": [
    "Image.open(\"../data/CSDQA_3/train/001.png\").getbbox()"
   ]
  },
  {
   "cell_type": "code",
   "execution_count": 20,
   "metadata": {},
   "outputs": [],
   "source": [
    "img2size = {}\n",
    "for folder in ['train', 'val', 'test']:\n",
    "    for imgfrom_name in os.listdir(os.path.join(\"../data/CSDQA_3\", folder)):\n",
    "        img = Image.open(os.path.join(\"../data/CSDQA_3\", folder, imgfrom_name))\n",
    "        bbox = img.getbbox()\n",
    "        width, height = bbox[2], bbox[3]\n",
    "        img2size[imgfrom_name] = [width, height]"
   ]
  },
  {
   "cell_type": "code",
   "execution_count": 21,
   "metadata": {},
   "outputs": [],
   "source": [
    "json.dump(img2size, open(\"../data/CSDQA_3/img2size.json\", 'w'))"
   ]
  },
  {
   "cell_type": "markdown",
   "metadata": {},
   "source": [
    "#### 检查obj_label和shape_name"
   ]
  },
  {
   "cell_type": "code",
   "execution_count": 45,
   "metadata": {},
   "outputs": [],
   "source": [
    "obj_label = set()\n",
    "shape_name = set()\n",
    "max_num = 0\n",
    "for c in cat:\n",
    "    json_file = json.load(open(os.path.join(\"../../CSDQA_v2.1/data/annotation/\", c, c + '.json')))\n",
    "    for file in list(json_file.values())[0]:\n",
    "        regions = file[\"regions\"]\n",
    "        if max_num < regions.__len__():\n",
    "            max_num = regions.__len__()\n",
    "        for region in regions:\n",
    "            shape_attributes = region[\"shape_attributes\"]\n",
    "            region_attributes = region[\"region_attributes\"]\n",
    "            shape_name.add(shape_attributes['name'])\n",
    "            obj_label.add(region_attributes.get(\"Obj_label\", ''))"
   ]
  },
  {
   "cell_type": "code",
   "execution_count": 46,
   "metadata": {},
   "outputs": [
    {
     "data": {
      "text/plain": [
       "55"
      ]
     },
     "execution_count": 46,
     "metadata": {},
     "output_type": "execute_result"
    }
   ],
   "source": [
    "max_num"
   ]
  },
  {
   "cell_type": "code",
   "execution_count": 37,
   "metadata": {},
   "outputs": [],
   "source": [
    "obj_label = list(obj_label)[1:]"
   ]
  },
  {
   "cell_type": "code",
   "execution_count": 26,
   "metadata": {},
   "outputs": [
    {
     "data": {
      "text/plain": [
       "{'circle', 'ellipse', 'rect'}"
      ]
     },
     "execution_count": 26,
     "metadata": {},
     "output_type": "execute_result"
    }
   ],
   "source": [
    "shape_name"
   ]
  },
  {
   "cell_type": "code",
   "execution_count": 38,
   "metadata": {},
   "outputs": [
    {
     "data": {
      "text/plain": [
       "['internal node',\n",
       " 'output',\n",
       " 'push element',\n",
       " 'input',\n",
       " 'database',\n",
       " 'vertex',\n",
       " 'NAND gate',\n",
       " 'NOT gate',\n",
       " 'Element',\n",
       " 'AND gate',\n",
       " 'or gate',\n",
       " 'On-page Connector',\n",
       " 'insert element',\n",
       " 'process',\n",
       " 'and gate',\n",
       " 'bottom element',\n",
       " 'nand gate',\n",
       " 'terminal',\n",
       " 'document',\n",
       " 'Terminal',\n",
       " 'not gate',\n",
       " 'OR gate',\n",
       " 'Tail element',\n",
       " 'Insert element',\n",
       " 'pop element',\n",
       " 'tail element',\n",
       " 'empty stack',\n",
       " 'decision',\n",
       " 'resource',\n",
       " 'Process',\n",
       " 'Output',\n",
       " 'top element',\n",
       " 'head node',\n",
       " 'Input',\n",
       " 'Top element',\n",
       " 'flowline',\n",
       " 'leaf node',\n",
       " 'Flowline',\n",
       " 'Head node',\n",
       " 'element',\n",
       " 'nor gate',\n",
       " 'predefined process',\n",
       " 'on-page connector',\n",
       " 'root node',\n",
       " 'node',\n",
       " 'manual operation',\n",
       " 'Decision',\n",
       " 'annotation',\n",
       " 'head element',\n",
       " 'pointer',\n",
       " 'internal element',\n",
       " 'NOR gate',\n",
       " 'xor gate',\n",
       " 'XOR gate',\n",
       " 'Head element',\n",
       " 'XNOR gate']"
      ]
     },
     "execution_count": 38,
     "metadata": {},
     "output_type": "execute_result"
    }
   ],
   "source": [
    "obj_label"
   ]
  },
  {
   "cell_type": "code",
   "execution_count": 39,
   "metadata": {},
   "outputs": [
    {
     "data": {
      "text/plain": [
       "56"
      ]
     },
     "execution_count": 39,
     "metadata": {},
     "output_type": "execute_result"
    }
   ],
   "source": [
    "obj_label.__len__()"
   ]
  },
  {
   "cell_type": "code",
   "execution_count": 40,
   "metadata": {},
   "outputs": [],
   "source": [
    "obj_set = {}\n",
    "obj_set[\"shape_name\"] = list(shape_name)\n",
    "obj_set[\"obj_label\"] = obj_label"
   ]
  },
  {
   "cell_type": "code",
   "execution_count": 41,
   "metadata": {},
   "outputs": [
    {
     "data": {
      "text/plain": [
       "{'shape_name': ['ellipse', 'circle', 'rect'],\n",
       " 'obj_label': ['internal node',\n",
       "  'output',\n",
       "  'push element',\n",
       "  'input',\n",
       "  'database',\n",
       "  'vertex',\n",
       "  'NAND gate',\n",
       "  'NOT gate',\n",
       "  'Element',\n",
       "  'AND gate',\n",
       "  'or gate',\n",
       "  'On-page Connector',\n",
       "  'insert element',\n",
       "  'process',\n",
       "  'and gate',\n",
       "  'bottom element',\n",
       "  'nand gate',\n",
       "  'terminal',\n",
       "  'document',\n",
       "  'Terminal',\n",
       "  'not gate',\n",
       "  'OR gate',\n",
       "  'Tail element',\n",
       "  'Insert element',\n",
       "  'pop element',\n",
       "  'tail element',\n",
       "  'empty stack',\n",
       "  'decision',\n",
       "  'resource',\n",
       "  'Process',\n",
       "  'Output',\n",
       "  'top element',\n",
       "  'head node',\n",
       "  'Input',\n",
       "  'Top element',\n",
       "  'flowline',\n",
       "  'leaf node',\n",
       "  'Flowline',\n",
       "  'Head node',\n",
       "  'element',\n",
       "  'nor gate',\n",
       "  'predefined process',\n",
       "  'on-page connector',\n",
       "  'root node',\n",
       "  'node',\n",
       "  'manual operation',\n",
       "  'Decision',\n",
       "  'annotation',\n",
       "  'head element',\n",
       "  'pointer',\n",
       "  'internal element',\n",
       "  'NOR gate',\n",
       "  'xor gate',\n",
       "  'XOR gate',\n",
       "  'Head element',\n",
       "  'XNOR gate']}"
      ]
     },
     "execution_count": 41,
     "metadata": {},
     "output_type": "execute_result"
    }
   ],
   "source": [
    "obj_set"
   ]
  },
  {
   "cell_type": "code",
   "execution_count": 42,
   "metadata": {},
   "outputs": [],
   "source": [
    "json.dump(obj_set, open(\"../data/ccksdata/obj_set.json\", \"w\"))"
   ]
  },
  {
   "cell_type": "code",
   "execution_count": null,
   "metadata": {},
   "outputs": [],
   "source": []
  }
 ],
 "metadata": {
  "kernelspec": {
   "display_name": "Python 3.6.13 ('ccks')",
   "language": "python",
   "name": "python3"
  },
  "language_info": {
   "codemirror_mode": {
    "name": "ipython",
    "version": 3
   },
   "file_extension": ".py",
   "mimetype": "text/x-python",
   "name": "python",
   "nbconvert_exporter": "python",
   "pygments_lexer": "ipython3",
   "version": "3.6.13"
  },
  "orig_nbformat": 4,
  "vscode": {
   "interpreter": {
    "hash": "63342d0c53cfe90b5e0ba40669de7decd70a8f289e313d37ed6609380aed74b0"
   }
  }
 },
 "nbformat": 4,
 "nbformat_minor": 2
}
