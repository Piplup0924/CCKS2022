{
 "cells": [
  {
   "cell_type": "code",
   "execution_count": 102,
   "metadata": {},
   "outputs": [],
   "source": [
    "import os\n",
    "import shutil\n",
    "import json"
   ]
  },
  {
   "cell_type": "markdown",
   "metadata": {},
   "source": [
    "### 图片划分"
   ]
  },
  {
   "cell_type": "code",
   "execution_count": 10,
   "metadata": {},
   "outputs": [],
   "source": [
    "os.chdir(\"/home/chenyang/code/CCKS2022/IconQA/data/CSDQA_3/train\")\n",
    "for i, name in enumerate(os.listdir(\"./\")):\n",
    "    if i % 10 in [8, 9]:\n",
    "        shutil.move(name, \"../val/\")"
   ]
  },
  {
   "cell_type": "code",
   "execution_count": 9,
   "metadata": {},
   "outputs": [
    {
     "data": {
      "text/plain": [
       "'/home/chenyang/code/CCKS2022/IconQA/data/CSDQA_3/train'"
      ]
     },
     "execution_count": 9,
     "metadata": {},
     "output_type": "execute_result"
    }
   ],
   "source": [
    "os.getcwd()"
   ]
  },
  {
   "cell_type": "markdown",
   "metadata": {},
   "source": [
    "### 问题信息生成"
   ]
  },
  {
   "cell_type": "code",
   "execution_count": 78,
   "metadata": {},
   "outputs": [],
   "source": [
    "def remove_space(ans:list):\n",
    "    tmp = []\n",
    "    for i in ans:\n",
    "        if i != \"\":\n",
    "            tmp.append(i)\n",
    "    return tmp"
   ]
  },
  {
   "cell_type": "code",
   "execution_count": 100,
   "metadata": {},
   "outputs": [],
   "source": [
    "problems = {}\n",
    "os.chdir(\"/home/chenyang/code/CCKS2022/IconQA/data/CSDQA_3/\")\n",
    "i = 1\n",
    "for name in os.listdir('./problems/'):\n",
    "    with open(os.path.join(\"./problems/\", name)) as f:\n",
    "        info = f.readlines()\n",
    "    truth = info[-1].split(\",\")\n",
    "    length = len(info)\n",
    "    problems_num = round(length / 2)\n",
    "    for num in range(problems_num):\n",
    "        problem = info[num * 2]\n",
    "        ans = info[num * 2 + 1]\n",
    "        problems[str(i)] = {}\n",
    "        problems[str(i)][\"question\"] = problem.strip().split(\".\")[1] + ('.' if problem.strip()[-1] == \".\" else '')\n",
    "        problems[str(i)]['diagram_path'] = os.path.join(\"/home/chenyang/code/CCKS2022/IconQA/data/CSDQA_3/\", name[:-4] + \".png\")\n",
    "        ans = remove_space(ans.strip().split(\" \"))\n",
    "        tmp = ans.copy()\n",
    "        for index, a in enumerate(ans):\n",
    "            if a[1] != '.' and a not in [\"True\", \"False\"]:\n",
    "                tmp[index - 1] = ans[index - 1] + ' ' + a\n",
    "                tmp.remove(a)\n",
    "        ans = tmp\n",
    "\n",
    "        assert len(ans) in [2, 4], print(len(ans), \"   \", name)\n",
    "        problems[str(i)]['answer'] = {}\n",
    "        if len(ans) == 4:\n",
    "            problems[str(i)]['answer']['a'] = ans[0][2:]\n",
    "            problems[str(i)]['answer']['b'] = ans[1][2:]\n",
    "            problems[str(i)]['answer']['c'] = ans[2][2:]\n",
    "            problems[str(i)]['answer']['d'] = ans[3][2:]\n",
    "            problems[str(i)][\"correct_answer\"] = truth[num].lower()\n",
    "        elif len(ans) == 2:\n",
    "            problems[str(i)]['answer']['a'] = \"True\"\n",
    "            problems[str(i)]['answer']['b'] = \"False\"\n",
    "            problems[str(i)][\"correct_answer\"] = \"a\" if truth[num] == \"True\" else \"b\"\n",
    "        i += 1"
   ]
  },
  {
   "cell_type": "code",
   "execution_count": 104,
   "metadata": {},
   "outputs": [],
   "source": [
    "json.dump(problems, open(\"/home/chenyang/code/CCKS2022/IconQA/data/CSDQA_3/problems.json\", \"w\"))"
   ]
  },
  {
   "cell_type": "markdown",
   "metadata": {},
   "source": [
    "### 为图片编号"
   ]
  },
  {
   "cell_type": "code",
   "execution_count": 109,
   "metadata": {},
   "outputs": [
    {
     "data": {
      "text/plain": [
       "'/home/chenyang/code/CCKS2022/IconQA/data/CSDQA_3'"
      ]
     },
     "execution_count": 109,
     "metadata": {},
     "output_type": "execute_result"
    }
   ],
   "source": [
    "os.getcwd()"
   ]
  },
  {
   "cell_type": "code",
   "execution_count": 110,
   "metadata": {},
   "outputs": [],
   "source": [
    "img2index = {}\n",
    "i = 1\n",
    "for folder in ['train', 'val', 'test']:\n",
    "    for imgfrom_name in os.listdir(os.path.join(\"/home/chenyang/code/CCKS2022/IconQA/data/CSDQA_3/\", folder)):\n",
    "        img2index[imgfrom_name] = i\n",
    "        i += 1"
   ]
  },
  {
   "cell_type": "code",
   "execution_count": 112,
   "metadata": {},
   "outputs": [],
   "source": [
    "json.dump(img2index, open(\"/home/chenyang/code/CCKS2022/IconQA/data/CSDQA_3/img2index.json\", 'w'))"
   ]
  },
  {
   "cell_type": "code",
   "execution_count": null,
   "metadata": {},
   "outputs": [],
   "source": []
  }
 ],
 "metadata": {
  "kernelspec": {
   "display_name": "Python 3.6.13 ('ccks')",
   "language": "python",
   "name": "python3"
  },
  "language_info": {
   "codemirror_mode": {
    "name": "ipython",
    "version": 3
   },
   "file_extension": ".py",
   "mimetype": "text/x-python",
   "name": "python",
   "nbconvert_exporter": "python",
   "pygments_lexer": "ipython3",
   "version": "3.6.13"
  },
  "orig_nbformat": 4,
  "vscode": {
   "interpreter": {
    "hash": "63342d0c53cfe90b5e0ba40669de7decd70a8f289e313d37ed6609380aed74b0"
   }
  }
 },
 "nbformat": 4,
 "nbformat_minor": 2
}
