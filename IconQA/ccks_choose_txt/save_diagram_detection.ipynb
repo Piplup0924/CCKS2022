{
 "cells": [
  {
   "cell_type": "code",
   "execution_count": 2,
   "metadata": {},
   "outputs": [
    {
     "name": "stderr",
     "output_type": "stream",
     "text": [
      "/home/chenyang/software/miniconda3/envs/pytorch/lib/python3.7/site-packages/tqdm/auto.py:22: TqdmWarning: IProgress not found. Please update jupyter and ipywidgets. See https://ipywidgets.readthedocs.io/en/stable/user_install.html\n",
      "  from .autonotebook import tqdm as notebook_tqdm\n"
     ]
    },
    {
     "name": "stdout",
     "output_type": "stream",
     "text": [
      "1.11.0 True\n",
      "GCC 7.3\n",
      "11.3\n"
     ]
    }
   ],
   "source": [
    "import torch, torchvision\n",
    "print(torch.__version__, torch.cuda.is_available())\n",
    "\n",
    "from mmcv.ops import get_compiling_cuda_version, get_compiler_version\n",
    "print(get_compiler_version())\n",
    "print(get_compiling_cuda_version())\n",
    "import mmdet\n",
    "from mmdet.apis import set_random_seed\n",
    "from mmdet.datasets import build_dataset\n",
    "from mmdet.models import build_detector\n",
    "from mmdet.apis import train_detector\n",
    "\n",
    "import random\n",
    "import numpy as np\n",
    "from pathlib import Path\n",
    "import copy\n",
    "import json\n",
    "from pycocotools.coco import COCO\n",
    "import os"
   ]
  },
  {
   "cell_type": "code",
   "execution_count": 3,
   "metadata": {},
   "outputs": [],
   "source": [
    "seed = 42\n",
    "\n",
    "\"\"\"Sets the random seeds.\"\"\"\n",
    "set_random_seed(seed, deterministic=False)\n",
    "random.seed(seed)\n",
    "np.random.seed(seed)\n",
    "torch.manual_seed(seed)\n",
    "torch.cuda.manual_seed(seed)\n",
    "torch.backends.cudnn.deterministic = True\n",
    "torch.backends.cudnn.benchmark = False\n",
    "os.environ['PYTHONHASHSEED'] = str(seed)"
   ]
  },
  {
   "cell_type": "code",
   "execution_count": 4,
   "metadata": {},
   "outputs": [],
   "source": [
    "type2id = dict()\n",
    "\n",
    "for i in range(-100, 101):\n",
    "    type2id[str(i)] = i + 100\n",
    "for up in [chr(i) for i in range(65, 91)]:\n",
    "    type2id[up] = ord(up) - 65 + 201\n",
    "for low in [chr(i) for i in range(97, 123)]:\n",
    "    type2id[low] = ord(low) - 97 + 227"
   ]
  },
  {
   "cell_type": "code",
   "execution_count": 5,
   "metadata": {},
   "outputs": [],
   "source": [
    "from mmcv import Config\n",
    "\n",
    "cfg_path = \"../../diagram_detection/code/job8_cascade_rcnn_r101_fpn_1x/job8_cascade_rcnn_r101_fpn_1x_coco.py\"\n",
    "\n",
    "cfg = Config.fromfile(cfg_path)"
   ]
  },
  {
   "cell_type": "code",
   "execution_count": 6,
   "metadata": {},
   "outputs": [],
   "source": [
    "import numpy as np\n",
    "from tqdm import tqdm\n",
    "import json  # for dumping json serialized results\n",
    "import zipfile  # for creating submission zip file\n",
    "import pandas as pd\n",
    "import cv2\n",
    "import os\n",
    "from matplotlib import pyplot as plt\n",
    "from mmdet.apis import inference_detector, init_detector, show_result_pyplot"
   ]
  },
  {
   "cell_type": "code",
   "execution_count": 7,
   "metadata": {},
   "outputs": [
    {
     "name": "stdout",
     "output_type": "stream",
     "text": [
      "load checkpoint from local path: ../../diagram_detection/code/job8_cascade_rcnn_r101_fpn_1x/best_bbox_mAP_epoch_19.pth\n"
     ]
    },
    {
     "name": "stderr",
     "output_type": "stream",
     "text": [
      "/home/chenyang/code/CCKS2022/diagram_detection/code/mmdetection/mmdet/apis/inference.py:50: UserWarning: Class names are not saved in the checkpoint's meta data, use COCO classes by default.\n",
      "  warnings.warn('Class names are not saved in the checkpoint\\'s '\n"
     ]
    }
   ],
   "source": [
    "checkpoint = \"../../diagram_detection/code/job8_cascade_rcnn_r101_fpn_1x/best_bbox_mAP_epoch_19.pth\"\n",
    "\n",
    "model_test = init_detector(cfg, checkpoint, device = \"cuda:0\")"
   ]
  },
  {
   "cell_type": "code",
   "execution_count": 8,
   "metadata": {},
   "outputs": [],
   "source": [
    "class_name = list(type2id.keys())"
   ]
  },
  {
   "cell_type": "code",
   "execution_count": 9,
   "metadata": {},
   "outputs": [],
   "source": [
    "def get_xyxy_from_pic(img_full_name, model, score_thresh):\n",
    "    xy_list = []\n",
    "    categorys = []\n",
    "    result = inference_detector(model, img_full_name)\n",
    "    for i in range(len(class_name)):\n",
    "        if len(result[i]) != 0:\n",
    "            for j in result[i]:\n",
    "                j = np.array(j).tolist()\n",
    "                if j[-1] >= score_thresh:\n",
    "                    categorys.append(class_name[i])\n",
    "                    x_min, y_min, x_max, y_max = j[0], j[1], j[2], j[3]\n",
    "                    x_mid = (x_max + x_min) / 2\n",
    "                    y_mid = (y_min + y_max) / 2\n",
    "                    width = x_max - x_min\n",
    "                    height = y_max - y_min\n",
    "                    xy_list.append([int(x_mid), int(y_mid), int(width), int(height)])\n",
    "    return categorys, xy_list"
   ]
  },
  {
   "cell_type": "code",
   "execution_count": 10,
   "metadata": {},
   "outputs": [
    {
     "name": "stderr",
     "output_type": "stream",
     "text": [
      "/home/chenyang/code/CCKS2022/diagram_detection/code/mmdetection/mmdet/datasets/utils.py:70: UserWarning: \"ImageToTensor\" pipeline is replaced by \"DefaultFormatBundle\" for batch inference. It is recommended to manually replace it in the test data pipeline in your config file.\n",
      "  'data pipeline in your config file.', UserWarning)\n",
      "libpng warning: zTXt: incorrect header check\n",
      "libpng warning: iCCP: known incorrect sRGB profile\n",
      "libpng warning: iCCP: known incorrect sRGB profile\n",
      "libpng warning: iCCP: profile 'icc': 0h: PCS illuminant is not D50\n"
     ]
    }
   ],
   "source": [
    "json_file = dict()\n",
    "\n",
    "max_len = 0\n",
    "\n",
    "for folder in ['train', 'val', 'test']:\n",
    "    for img_name in os.listdir(os.path.join(\"../data/ccksdata/\", folder)):\n",
    "        img_full_name = os.path.join(\"../data/ccksdata/\", folder, img_name)\n",
    "        cat, xy_list = get_xyxy_from_pic(img_full_name, model_test, score_thresh=0.7)\n",
    "        json_file[img_name] = list()\n",
    "        if len(cat) > max_len:\n",
    "            max_len = len(cat)\n",
    "        # for i in range(len(cat)):\n",
    "        #     tmp = dict()\n",
    "        #     tmp[\"shape_attributes\"] = dict()\n",
    "        #     tmp[\"shape_attributes\"][\"x\"] = xy_list[i][0]\n",
    "        #     tmp[\"shape_attributes\"][\"y\"] = xy_list[i][1]\n",
    "        #     tmp[\"shape_attributes\"][\"width\"] = xy_list[i][2]\n",
    "        #     tmp[\"shape_attributes\"][\"height\"] = xy_list[i][3]\n",
    "        #     tmp[\"region_attributes\"] = dict()\n",
    "        #     tmp[\"region_attributes\"][\"Obj_id\"] = str(i)\n",
    "        #     tmp[\"region_attributes\"][\"value\"] = cat[i]\n",
    "        #     json_file[img_name].append(tmp)"
   ]
  },
  {
   "cell_type": "code",
   "execution_count": 11,
   "metadata": {},
   "outputs": [
    {
     "data": {
      "text/plain": [
       "44"
      ]
     },
     "execution_count": 11,
     "metadata": {},
     "output_type": "execute_result"
    },
    {
     "ename": "",
     "evalue": "",
     "output_type": "error",
     "traceback": [
      "\u001b[1;31mThe Kernel crashed while executing code in the the current cell or a previous cell. Please review the code in the cell(s) to identify a possible cause of the failure. Click <a href='https://aka.ms/vscodeJupyterKernelCrash'>here</a> for more info. View Jupyter <a href='command:jupyter.viewOutput'>log</a> for further details."
     ]
    }
   ],
   "source": [
    "max_len"
   ]
  },
  {
   "cell_type": "code",
   "execution_count": 12,
   "metadata": {},
   "outputs": [
    {
     "name": "stderr",
     "output_type": "stream",
     "text": [
      "/home/chenyang/software/miniconda3/envs/pytorch/lib/python3.7/site-packages/ipykernel_launcher.py:1: ResourceWarning: unclosed file <_io.TextIOWrapper name='./diagram_detection.json' mode='w' encoding='UTF-8'>\n",
      "  \"\"\"Entry point for launching an IPython kernel.\n",
      "ResourceWarning: Enable tracemalloc to get the object allocation traceback\n"
     ]
    }
   ],
   "source": [
    "json.dump(json_file, open(\"./diagram_detection.json\", \"w\"))"
   ]
  },
  {
   "cell_type": "code",
   "execution_count": null,
   "metadata": {},
   "outputs": [],
   "source": []
  }
 ],
 "metadata": {
  "kernelspec": {
   "display_name": "Python 3.7.13 ('pytorch')",
   "language": "python",
   "name": "python3"
  },
  "language_info": {
   "codemirror_mode": {
    "name": "ipython",
    "version": 3
   },
   "file_extension": ".py",
   "mimetype": "text/x-python",
   "name": "python",
   "nbconvert_exporter": "python",
   "pygments_lexer": "ipython3",
   "version": "3.7.13"
  },
  "orig_nbformat": 4,
  "vscode": {
   "interpreter": {
    "hash": "f2980ee64cb076e9bf6318f82b2e610a8b28e390b01781aa6e56babf5311da46"
   }
  }
 },
 "nbformat": 4,
 "nbformat_minor": 2
}
