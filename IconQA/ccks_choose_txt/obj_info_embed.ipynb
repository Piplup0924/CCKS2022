{
 "cells": [
  {
   "cell_type": "code",
   "execution_count": 1,
   "metadata": {},
   "outputs": [],
   "source": [
    "import os\n",
    "import sys\n",
    "import json\n",
    "from PIL import Image"
   ]
  },
  {
   "cell_type": "code",
   "execution_count": 2,
   "metadata": {},
   "outputs": [],
   "source": [
    "cat = []\n",
    "for files in os.listdir(\"../../CSDQA_v2.1/data/diagram/\"):\n",
    "    cat.append(files)"
   ]
  },
  {
   "cell_type": "code",
   "execution_count": 3,
   "metadata": {},
   "outputs": [
    {
     "data": {
      "text/plain": [
       "['Non-binary-tree',\n",
       " 'Network-topology',\n",
       " 'Array-list',\n",
       " 'Graph',\n",
       " 'Binary-tree',\n",
       " 'Stack',\n",
       " 'Flowchart',\n",
       " 'Queue',\n",
       " 'Logic-circuit',\n",
       " 'Linked-List',\n",
       " 'Deadlock']"
      ]
     },
     "execution_count": 3,
     "metadata": {},
     "output_type": "execute_result"
    }
   ],
   "source": [
    "cat"
   ]
  },
  {
   "cell_type": "code",
   "execution_count": 4,
   "metadata": {},
   "outputs": [],
   "source": [
    "import hashlib"
   ]
  },
  {
   "cell_type": "code",
   "execution_count": 5,
   "metadata": {},
   "outputs": [],
   "source": [
    "def get_md5(file_path):\n",
    "    md5 = None\n",
    "    if os.path.isfile(file_path):\n",
    "        f = open(file_path, 'rb')\n",
    "        md5_obj = hashlib.md5()\n",
    "        md5_obj.update(f.read())\n",
    "        hash_code = md5_obj.hexdigest()\n",
    "        f.close()\n",
    "        md5 = str(hash_code).lower()\n",
    "    return md5"
   ]
  },
  {
   "cell_type": "code",
   "execution_count": 6,
   "metadata": {},
   "outputs": [],
   "source": [
    "img2img = dict()"
   ]
  },
  {
   "cell_type": "code",
   "execution_count": 7,
   "metadata": {},
   "outputs": [],
   "source": [
    "img_names = []\n",
    "for folder in ['train', 'val', 'test']:\n",
    "    for imgfrom_name in os.listdir(os.path.join(\"../data/ccksdata\", folder)):\n",
    "        imgfrom_md5 = get_md5(os.path.join(\"../data/ccksdata/\", folder, imgfrom_name))\n",
    "        for c in cat:\n",
    "            for imgto_name in os.listdir(os.path.join(\"../../CSDQA_v2.1/data/diagram/\", c)):\n",
    "                imgto_md5 = get_md5(os.path.join(\"../../CSDQA_v2.1/data/diagram/\", c, imgto_name))\n",
    "                if imgfrom_md5 == imgto_md5:\n",
    "                    img2img[imgfrom_name] = [c, imgto_name]"
   ]
  },
  {
   "cell_type": "code",
   "execution_count": 8,
   "metadata": {},
   "outputs": [
    {
     "data": {
      "text/plain": [
       "951"
      ]
     },
     "execution_count": 8,
     "metadata": {},
     "output_type": "execute_result"
    }
   ],
   "source": [
    "img2img.__len__()"
   ]
  },
  {
   "cell_type": "code",
   "execution_count": 10,
   "metadata": {},
   "outputs": [],
   "source": [
    "types =  [\"Array-list\", \"Linked-List\", \"Stack\"]"
   ]
  },
  {
   "cell_type": "code",
   "execution_count": 12,
   "metadata": {},
   "outputs": [],
   "source": [
    "imgs = []"
   ]
  },
  {
   "cell_type": "code",
   "execution_count": 14,
   "metadata": {},
   "outputs": [],
   "source": [
    "for img in img2img.values():\n",
    "    if img[0] in types:\n",
    "        imgs.append(img)"
   ]
  },
  {
   "cell_type": "code",
   "execution_count": 17,
   "metadata": {},
   "outputs": [
    {
     "data": {
      "text/plain": [
       "201"
      ]
     },
     "execution_count": 17,
     "metadata": {},
     "output_type": "execute_result"
    }
   ],
   "source": [
    "imgs.__len__()"
   ]
  },
  {
   "cell_type": "code",
   "execution_count": 54,
   "metadata": {},
   "outputs": [],
   "source": [
    "a = json.load(open(\"../../CSDQA_v2.1/data/annotation/Array-list/Array-list.json\"))"
   ]
  },
  {
   "cell_type": "code",
   "execution_count": 55,
   "metadata": {},
   "outputs": [
    {
     "data": {
      "text/plain": [
       "dict_keys(['filename', 'size', 'regions', 'file_attributes'])"
      ]
     },
     "execution_count": 55,
     "metadata": {},
     "output_type": "execute_result"
    }
   ],
   "source": [
    "list(a.values())[0][0].keys()"
   ]
  },
  {
   "cell_type": "code",
   "execution_count": 87,
   "metadata": {},
   "outputs": [
    {
     "name": "stdout",
     "output_type": "stream",
     "text": [
      "100.png\n",
      "92.png\n",
      "97.png\n",
      "95.png\n",
      "76.png\n",
      "81.png\n",
      "98.png\n",
      "86.png\n",
      "96.png\n",
      "78.png\n",
      "84.png\n",
      "89.png\n",
      "88.png\n",
      "93.png\n",
      "77.png\n",
      "90.png\n",
      "1036.png\n",
      "83.png\n",
      "85.png\n",
      "79.png\n",
      "80.png\n",
      "91.png\n"
     ]
    }
   ],
   "source": [
    "img2obj = dict()\n",
    "for imgName, address in img2img.items():\n",
    "    json_file = json.load(open(os.path.join(\"../../CSDQA_v2.1/data/annotation/\", address[0], address[0]+'.json')))\n",
    "    for dic in list(json_file.values())[0]:\n",
    "        if dic['filename'] == address[1]:\n",
    "            region_obj = []\n",
    "            for region in dic['regions']:\n",
    "                # Type = region['region_attributes']['Type']\n",
    "                # if type(Type) == list and 'object' in Type or type(Type) == dict and Type.get('object', False):\n",
    "                if region[\"region_attributes\"].get('Obj_id', False):\n",
    "                    region_obj.append(region)\n",
    "            img2obj[imgName] = region_obj\n",
    "    if imgName not in img2obj.keys():\n",
    "        img2obj[imgName] = []\n",
    "        print(imgName)"
   ]
  },
  {
   "cell_type": "code",
   "execution_count": 88,
   "metadata": {},
   "outputs": [
    {
     "data": {
      "text/plain": [
       "951"
      ]
     },
     "execution_count": 88,
     "metadata": {},
     "output_type": "execute_result"
    }
   ],
   "source": [
    "img2obj.__len__()"
   ]
  },
  {
   "cell_type": "code",
   "execution_count": 91,
   "metadata": {},
   "outputs": [],
   "source": [
    "json.dump(img2obj, open(\"../data/ccksdata/img2obj.json\", 'w'))"
   ]
  },
  {
   "cell_type": "markdown",
   "metadata": {},
   "source": [
    "#### 创建图片长宽的JSON文件"
   ]
  },
  {
   "cell_type": "code",
   "execution_count": 10,
   "metadata": {},
   "outputs": [
    {
     "data": {
      "text/plain": [
       "(0, 0, 604, 126)"
      ]
     },
     "execution_count": 10,
     "metadata": {},
     "output_type": "execute_result"
    }
   ],
   "source": [
    "Image.open(\"../data/ccksdata/train/100.png\").getbbox()"
   ]
  },
  {
   "cell_type": "code",
   "execution_count": 11,
   "metadata": {},
   "outputs": [],
   "source": [
    "img2size = {}\n",
    "for folder in ['train', 'val', 'test']:\n",
    "    for imgfrom_name in os.listdir(os.path.join(\"../data/ccksdata\", folder)):\n",
    "        img = Image.open(os.path.join(\"../data/ccksdata\", folder, imgfrom_name))\n",
    "        bbox = img.getbbox()\n",
    "        width, height = bbox[2], bbox[3]\n",
    "        img2size[imgfrom_name] = [width, height]"
   ]
  },
  {
   "cell_type": "code",
   "execution_count": 15,
   "metadata": {},
   "outputs": [],
   "source": [
    "json.dump(img2size, open(\"../data/ccksdata/img2size.json\", 'w'))"
   ]
  },
  {
   "cell_type": "markdown",
   "metadata": {},
   "source": [
    "#### 检查obj_label和shape_name"
   ]
  },
  {
   "cell_type": "code",
   "execution_count": 45,
   "metadata": {},
   "outputs": [],
   "source": [
    "obj_label = set()\n",
    "shape_name = set()\n",
    "max_num = 0\n",
    "for c in cat:\n",
    "    json_file = json.load(open(os.path.join(\"../../CSDQA_v2.1/data/annotation/\", c, c + '.json')))\n",
    "    for file in list(json_file.values())[0]:\n",
    "        regions = file[\"regions\"]\n",
    "        if max_num < regions.__len__():\n",
    "            max_num = regions.__len__()\n",
    "        for region in regions:\n",
    "            shape_attributes = region[\"shape_attributes\"]\n",
    "            region_attributes = region[\"region_attributes\"]\n",
    "            shape_name.add(shape_attributes['name'])\n",
    "            obj_label.add(region_attributes.get(\"Obj_label\", ''))"
   ]
  },
  {
   "cell_type": "code",
   "execution_count": 46,
   "metadata": {},
   "outputs": [
    {
     "data": {
      "text/plain": [
       "55"
      ]
     },
     "execution_count": 46,
     "metadata": {},
     "output_type": "execute_result"
    }
   ],
   "source": [
    "max_num"
   ]
  },
  {
   "cell_type": "code",
   "execution_count": 37,
   "metadata": {},
   "outputs": [],
   "source": [
    "obj_label = list(obj_label)[1:]"
   ]
  },
  {
   "cell_type": "code",
   "execution_count": 26,
   "metadata": {},
   "outputs": [
    {
     "data": {
      "text/plain": [
       "{'circle', 'ellipse', 'rect'}"
      ]
     },
     "execution_count": 26,
     "metadata": {},
     "output_type": "execute_result"
    }
   ],
   "source": [
    "shape_name"
   ]
  },
  {
   "cell_type": "code",
   "execution_count": 38,
   "metadata": {},
   "outputs": [
    {
     "data": {
      "text/plain": [
       "['internal node',\n",
       " 'output',\n",
       " 'push element',\n",
       " 'input',\n",
       " 'database',\n",
       " 'vertex',\n",
       " 'NAND gate',\n",
       " 'NOT gate',\n",
       " 'Element',\n",
       " 'AND gate',\n",
       " 'or gate',\n",
       " 'On-page Connector',\n",
       " 'insert element',\n",
       " 'process',\n",
       " 'and gate',\n",
       " 'bottom element',\n",
       " 'nand gate',\n",
       " 'terminal',\n",
       " 'document',\n",
       " 'Terminal',\n",
       " 'not gate',\n",
       " 'OR gate',\n",
       " 'Tail element',\n",
       " 'Insert element',\n",
       " 'pop element',\n",
       " 'tail element',\n",
       " 'empty stack',\n",
       " 'decision',\n",
       " 'resource',\n",
       " 'Process',\n",
       " 'Output',\n",
       " 'top element',\n",
       " 'head node',\n",
       " 'Input',\n",
       " 'Top element',\n",
       " 'flowline',\n",
       " 'leaf node',\n",
       " 'Flowline',\n",
       " 'Head node',\n",
       " 'element',\n",
       " 'nor gate',\n",
       " 'predefined process',\n",
       " 'on-page connector',\n",
       " 'root node',\n",
       " 'node',\n",
       " 'manual operation',\n",
       " 'Decision',\n",
       " 'annotation',\n",
       " 'head element',\n",
       " 'pointer',\n",
       " 'internal element',\n",
       " 'NOR gate',\n",
       " 'xor gate',\n",
       " 'XOR gate',\n",
       " 'Head element',\n",
       " 'XNOR gate']"
      ]
     },
     "execution_count": 38,
     "metadata": {},
     "output_type": "execute_result"
    }
   ],
   "source": [
    "obj_label"
   ]
  },
  {
   "cell_type": "code",
   "execution_count": 39,
   "metadata": {},
   "outputs": [
    {
     "data": {
      "text/plain": [
       "56"
      ]
     },
     "execution_count": 39,
     "metadata": {},
     "output_type": "execute_result"
    }
   ],
   "source": [
    "obj_label.__len__()"
   ]
  },
  {
   "cell_type": "code",
   "execution_count": 40,
   "metadata": {},
   "outputs": [],
   "source": [
    "obj_set = {}\n",
    "obj_set[\"shape_name\"] = list(shape_name)\n",
    "obj_set[\"obj_label\"] = obj_label"
   ]
  },
  {
   "cell_type": "code",
   "execution_count": 41,
   "metadata": {},
   "outputs": [
    {
     "data": {
      "text/plain": [
       "{'shape_name': ['ellipse', 'circle', 'rect'],\n",
       " 'obj_label': ['internal node',\n",
       "  'output',\n",
       "  'push element',\n",
       "  'input',\n",
       "  'database',\n",
       "  'vertex',\n",
       "  'NAND gate',\n",
       "  'NOT gate',\n",
       "  'Element',\n",
       "  'AND gate',\n",
       "  'or gate',\n",
       "  'On-page Connector',\n",
       "  'insert element',\n",
       "  'process',\n",
       "  'and gate',\n",
       "  'bottom element',\n",
       "  'nand gate',\n",
       "  'terminal',\n",
       "  'document',\n",
       "  'Terminal',\n",
       "  'not gate',\n",
       "  'OR gate',\n",
       "  'Tail element',\n",
       "  'Insert element',\n",
       "  'pop element',\n",
       "  'tail element',\n",
       "  'empty stack',\n",
       "  'decision',\n",
       "  'resource',\n",
       "  'Process',\n",
       "  'Output',\n",
       "  'top element',\n",
       "  'head node',\n",
       "  'Input',\n",
       "  'Top element',\n",
       "  'flowline',\n",
       "  'leaf node',\n",
       "  'Flowline',\n",
       "  'Head node',\n",
       "  'element',\n",
       "  'nor gate',\n",
       "  'predefined process',\n",
       "  'on-page connector',\n",
       "  'root node',\n",
       "  'node',\n",
       "  'manual operation',\n",
       "  'Decision',\n",
       "  'annotation',\n",
       "  'head element',\n",
       "  'pointer',\n",
       "  'internal element',\n",
       "  'NOR gate',\n",
       "  'xor gate',\n",
       "  'XOR gate',\n",
       "  'Head element',\n",
       "  'XNOR gate']}"
      ]
     },
     "execution_count": 41,
     "metadata": {},
     "output_type": "execute_result"
    }
   ],
   "source": [
    "obj_set"
   ]
  },
  {
   "cell_type": "code",
   "execution_count": 42,
   "metadata": {},
   "outputs": [],
   "source": [
    "json.dump(obj_set, open(\"../data/ccksdata/obj_set.json\", \"w\"))"
   ]
  },
  {
   "cell_type": "code",
   "execution_count": null,
   "metadata": {},
   "outputs": [],
   "source": []
  }
 ],
 "metadata": {
  "kernelspec": {
   "display_name": "Python 3.6.13 ('ccks')",
   "language": "python",
   "name": "python3"
  },
  "language_info": {
   "codemirror_mode": {
    "name": "ipython",
    "version": 3
   },
   "file_extension": ".py",
   "mimetype": "text/x-python",
   "name": "python",
   "nbconvert_exporter": "python",
   "pygments_lexer": "ipython3",
   "version": "3.6.13"
  },
  "orig_nbformat": 4,
  "vscode": {
   "interpreter": {
    "hash": "63342d0c53cfe90b5e0ba40669de7decd70a8f289e313d37ed6609380aed74b0"
   }
  }
 },
 "nbformat": 4,
 "nbformat_minor": 2
}
